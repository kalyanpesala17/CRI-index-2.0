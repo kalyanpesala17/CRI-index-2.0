{
 "cells": [
  {
   "cell_type": "code",
   "execution_count": 1,
   "metadata": {},
   "outputs": [],
   "source": [
    "import pandas as pd\n",
    "import numpy as np\n",
    "import statsmodels.api as sm\n",
    "from sklearn.preprocessing import StandardScaler\n",
    "import scipy.stats\n",
    "from sklearn.preprocessing import MinMaxScaler\n",
    "import matplotlib.pyplot as plt\n",
    "import seaborn as sns\n",
    "\n",
    "import warnings\n",
    "warnings.filterwarnings(\"ignore\")"
   ]
  },
  {
   "cell_type": "markdown",
   "metadata": {},
   "source": [
    "## Gather Data"
   ]
  },
  {
   "cell_type": "markdown",
   "metadata": {},
   "source": [
    "coi data is collected from here: http://data.diversitydatakids.org/dataset/coi20-child-opportunity-index-2-0-database"
   ]
  },
  {
   "cell_type": "markdown",
   "metadata": {},
   "source": [
    "locs data is collected from here: https://data.cdc.gov/Environmental-Health-Toxicology/Daily-Census-Tract-Level-PM2-5-Concentrations-2011/fcqm-xrf4"
   ]
  },
  {
   "cell_type": "code",
   "execution_count": 2,
   "metadata": {},
   "outputs": [],
   "source": [
    "#data from coi\n",
    "coi = pd.read_csv('coi.csv')\n",
    "\n",
    "# to get the latitude,longitude for our coi data\n",
    "locs = pd.read_csv('Daily_Census_Tract-Level_Ozone_Concentrations__2011-2014.csv')"
   ]
  },
  {
   "cell_type": "markdown",
   "metadata": {},
   "source": [
    "#### How many unique census tracts are there in coi data for dallas,collin,tarrant and denton?"
   ]
  },
  {
   "cell_type": "code",
   "execution_count": 3,
   "metadata": {},
   "outputs": [
    {
     "data": {
      "text/plain": [
       "1172"
      ]
     },
     "execution_count": 3,
     "metadata": {},
     "output_type": "execute_result"
    }
   ],
   "source": [
    "coi[coi['countyfips'].isin([48113,48085,48121,48439])].geoid.nunique() "
   ]
  },
  {
   "cell_type": "markdown",
   "metadata": {},
   "source": [
    "Merging the coi data with locs to get the latitude and longitude"
   ]
  },
  {
   "cell_type": "code",
   "execution_count": 4,
   "metadata": {},
   "outputs": [],
   "source": [
    "#merge these data files\n",
    "coi_locs = pd.merge(coi,locs[((locs['date'] == '01JAN2011') & (locs['statefips'] == 48))][['ctfips','latitude','longitude']],how = 'inner',left_on = 'geoid', right_on = 'ctfips')"
   ]
  },
  {
   "cell_type": "code",
   "execution_count": 5,
   "metadata": {},
   "outputs": [
    {
     "data": {
      "text/plain": [
       "(2344, 42)"
      ]
     },
     "execution_count": 5,
     "metadata": {},
     "output_type": "execute_result"
    }
   ],
   "source": [
    "coi_locs.shape #for 2010 and 2015"
   ]
  },
  {
   "cell_type": "markdown",
   "metadata": {},
   "source": [
    "Number of rows is 2344 because the data contains both 2010 and 2015"
   ]
  },
  {
   "cell_type": "markdown",
   "metadata": {},
   "source": [
    "Collected the below data from\n",
    "CDC Health Data at census tract level: https://data.cdc.gov/500-Cities/500-Cities-Census-Tract-level-Data-GIS-Friendly-Fo/k86t-wghb"
   ]
  },
  {
   "cell_type": "markdown",
   "metadata": {},
   "source": [
    "In the 500-cities data we have physical health and mental health which are our y-variables."
   ]
  },
  {
   "cell_type": "code",
   "execution_count": 6,
   "metadata": {},
   "outputs": [
    {
     "name": "stdout",
     "output_type": "stream",
     "text": [
      "(949, 64)\n"
     ]
    }
   ],
   "source": [
    "df_500 = pd.read_excel('500_Cities__Census_Tract-level_Data__GIS_Friendly_Format___2019_release.xlsx')\n",
    "print(df_500.shape)"
   ]
  },
  {
   "cell_type": "code",
   "execution_count": 7,
   "metadata": {},
   "outputs": [
    {
     "data": {
      "text/plain": [
       "(1172, 42)"
      ]
     },
     "execution_count": 7,
     "metadata": {},
     "output_type": "execute_result"
    }
   ],
   "source": [
    "#filter coi only for 2015\n",
    "df_coi_2015 = coi_locs[coi_locs['year'] == 2015]\n",
    "df_coi_2015.shape"
   ]
  },
  {
   "cell_type": "markdown",
   "metadata": {},
   "source": [
    "#### Selceting the required variables based on the correlations and studies related to child poverty."
   ]
  },
  {
   "cell_type": "code",
   "execution_count": 8,
   "metadata": {},
   "outputs": [
    {
     "name": "stdout",
     "output_type": "stream",
     "text": [
      "(1172, 14)\n",
      "(949, 35)\n"
     ]
    }
   ],
   "source": [
    "#selecting the required columns\n",
    "df_coi_2015 = df_coi_2015[['HE_FOOD', 'HE_GREEN', 'HE_WALK', 'HE_VACANCY', 'HE_SUPRFND', 'HE_RSEI',\n",
    "       'HE_PM25', 'HE_OZONE', 'HE_HEAT', 'HE_HLTHINS','latitude', 'longitude','geoid','countyfips']]\n",
    "\n",
    "df_500 = df_500[['TractFIPS', 'County', 'StateAbbr', 'PlaceName',\n",
    "       'PlaceFIPS', 'Place_TractID', 'Population2010', 'ACCESS2_CrudePrev',\n",
    "       'ARTHRITIS_CrudePrev', 'BINGE_CrudePrev', 'BPHIGH_CrudePrev',\n",
    "       'BPMED_CrudePrev', 'CANCER_CrudePrev', 'CASTHMA_CrudePrev',\n",
    "       'CHD_CrudePrev', 'CHECKUP_CrudePrev', 'CHOLSCREEN_CrudePrev',\n",
    "       'COLON_SCREEN_CrudePrev', 'COPD_CrudePrev', 'COREM_CrudePrev',\n",
    "       'COREW_CrudePrev', 'CSMOKING_CrudePrev', 'DENTAL_CrudePrev',\n",
    "       'DIABETES_CrudePrev', 'HIGHCHOL_CrudePrev', 'KIDNEY_CrudePrev',\n",
    "       'LPA_CrudePrev', 'MAMMOUSE_CrudePrev', 'MHLTH_CrudePrev',\n",
    "       'OBESITY_CrudePrev', 'PAPTEST_CrudePrev', 'PHLTH_CrudePrev',\n",
    "       'SLEEP_CrudePrev', 'STROKE_CrudePrev', 'TEETHLOST_CrudePrev']]\n",
    "\n",
    "print(df_coi_2015.shape)\n",
    "print(df_500.shape)"
   ]
  },
  {
   "cell_type": "markdown",
   "metadata": {},
   "source": [
    "How many unique census tracts in 500-cities data file that are in coi data?"
   ]
  },
  {
   "cell_type": "code",
   "execution_count": 9,
   "metadata": {},
   "outputs": [
    {
     "data": {
      "text/plain": [
       "920"
      ]
     },
     "execution_count": 9,
     "metadata": {},
     "output_type": "execute_result"
    }
   ],
   "source": [
    "df_coi_2015['geoid'].isin(df_500.TractFIPS.values).sum()"
   ]
  },
  {
   "cell_type": "markdown",
   "metadata": {},
   "source": [
    "Total rows in the 500-cities are 949 but unique census tracts are 920. So there are duplicate census tracts in the data."
   ]
  },
  {
   "cell_type": "markdown",
   "metadata": {},
   "source": [
    "What are the Duplicate rows?"
   ]
  },
  {
   "cell_type": "code",
   "execution_count": 10,
   "metadata": {},
   "outputs": [
    {
     "data": {
      "text/html": [
       "<div>\n",
       "<style scoped>\n",
       "    .dataframe tbody tr th:only-of-type {\n",
       "        vertical-align: middle;\n",
       "    }\n",
       "\n",
       "    .dataframe tbody tr th {\n",
       "        vertical-align: top;\n",
       "    }\n",
       "\n",
       "    .dataframe thead th {\n",
       "        text-align: right;\n",
       "    }\n",
       "</style>\n",
       "<table border=\"1\" class=\"dataframe\">\n",
       "  <thead>\n",
       "    <tr style=\"text-align: right;\">\n",
       "      <th></th>\n",
       "      <th>TractFIPS</th>\n",
       "      <th>County</th>\n",
       "      <th>StateAbbr</th>\n",
       "      <th>PlaceName</th>\n",
       "      <th>PlaceFIPS</th>\n",
       "      <th>Place_TractID</th>\n",
       "      <th>Population2010</th>\n",
       "      <th>ACCESS2_CrudePrev</th>\n",
       "      <th>ARTHRITIS_CrudePrev</th>\n",
       "      <th>BINGE_CrudePrev</th>\n",
       "      <th>...</th>\n",
       "      <th>KIDNEY_CrudePrev</th>\n",
       "      <th>LPA_CrudePrev</th>\n",
       "      <th>MAMMOUSE_CrudePrev</th>\n",
       "      <th>MHLTH_CrudePrev</th>\n",
       "      <th>OBESITY_CrudePrev</th>\n",
       "      <th>PAPTEST_CrudePrev</th>\n",
       "      <th>PHLTH_CrudePrev</th>\n",
       "      <th>SLEEP_CrudePrev</th>\n",
       "      <th>STROKE_CrudePrev</th>\n",
       "      <th>TEETHLOST_CrudePrev</th>\n",
       "    </tr>\n",
       "  </thead>\n",
       "  <tbody>\n",
       "    <tr>\n",
       "      <th>627</th>\n",
       "      <td>48085030522</td>\n",
       "      <td>Collin</td>\n",
       "      <td>TX</td>\n",
       "      <td>Frisco</td>\n",
       "      <td>4827684</td>\n",
       "      <td>4827684-48085030522</td>\n",
       "      <td>1363</td>\n",
       "      <td>15.0</td>\n",
       "      <td>13.6</td>\n",
       "      <td>19.4</td>\n",
       "      <td>...</td>\n",
       "      <td>1.8</td>\n",
       "      <td>22.6</td>\n",
       "      <td>79.3</td>\n",
       "      <td>9.7</td>\n",
       "      <td>27.3</td>\n",
       "      <td>82.0</td>\n",
       "      <td>7.5</td>\n",
       "      <td>34.9</td>\n",
       "      <td>1.5</td>\n",
       "      <td>6.2</td>\n",
       "    </tr>\n",
       "    <tr>\n",
       "      <th>817</th>\n",
       "      <td>48085030522</td>\n",
       "      <td>Collin</td>\n",
       "      <td>TX</td>\n",
       "      <td>McKinney</td>\n",
       "      <td>4845744</td>\n",
       "      <td>4845744-48085030522</td>\n",
       "      <td>2820</td>\n",
       "      <td>15.8</td>\n",
       "      <td>11.3</td>\n",
       "      <td>23.5</td>\n",
       "      <td>...</td>\n",
       "      <td>1.5</td>\n",
       "      <td>21.4</td>\n",
       "      <td>78.6</td>\n",
       "      <td>10.5</td>\n",
       "      <td>28.0</td>\n",
       "      <td>83.8</td>\n",
       "      <td>6.9</td>\n",
       "      <td>33.7</td>\n",
       "      <td>1.1</td>\n",
       "      <td>5.8</td>\n",
       "    </tr>\n",
       "  </tbody>\n",
       "</table>\n",
       "<p>2 rows × 35 columns</p>\n",
       "</div>"
      ],
      "text/plain": [
       "       TractFIPS  County StateAbbr PlaceName  PlaceFIPS        Place_TractID  \\\n",
       "627  48085030522  Collin        TX    Frisco    4827684  4827684-48085030522   \n",
       "817  48085030522  Collin        TX  McKinney    4845744  4845744-48085030522   \n",
       "\n",
       "     Population2010  ACCESS2_CrudePrev  ARTHRITIS_CrudePrev  BINGE_CrudePrev  \\\n",
       "627            1363               15.0                 13.6             19.4   \n",
       "817            2820               15.8                 11.3             23.5   \n",
       "\n",
       "            ...           KIDNEY_CrudePrev  LPA_CrudePrev  MAMMOUSE_CrudePrev  \\\n",
       "627         ...                        1.8           22.6                79.3   \n",
       "817         ...                        1.5           21.4                78.6   \n",
       "\n",
       "     MHLTH_CrudePrev  OBESITY_CrudePrev  PAPTEST_CrudePrev  PHLTH_CrudePrev  \\\n",
       "627              9.7               27.3               82.0              7.5   \n",
       "817             10.5               28.0               83.8              6.9   \n",
       "\n",
       "     SLEEP_CrudePrev  STROKE_CrudePrev  TEETHLOST_CrudePrev  \n",
       "627             34.9               1.5                  6.2  \n",
       "817             33.7               1.1                  5.8  \n",
       "\n",
       "[2 rows x 35 columns]"
      ]
     },
     "execution_count": 10,
     "metadata": {},
     "output_type": "execute_result"
    }
   ],
   "source": [
    "df_500[df_500.duplicated(subset = ['TractFIPS'], keep = False)].sort_values(by = 'TractFIPS').head(2)"
   ]
  },
  {
   "cell_type": "markdown",
   "metadata": {},
   "source": [
    "There are 29 duplicates in the 500-cities data, above is just an example of one duplicate. From here, we can observe even though the census tract is same but the variables data are different."
   ]
  },
  {
   "cell_type": "markdown",
   "metadata": {},
   "source": [
    "To resolve this we have imputed by averaging the values from both rows and dropped the duplicate."
   ]
  },
  {
   "cell_type": "code",
   "execution_count": 11,
   "metadata": {},
   "outputs": [],
   "source": [
    "#remove the duplicates by imputing there average.\n",
    "impute_cols = ['ACCESS2_CrudePrev',\n",
    "       'ARTHRITIS_CrudePrev', 'BINGE_CrudePrev', 'BPHIGH_CrudePrev',\n",
    "       'BPMED_CrudePrev', 'CANCER_CrudePrev', 'CASTHMA_CrudePrev',\n",
    "       'CHD_CrudePrev', 'CHECKUP_CrudePrev', 'CHOLSCREEN_CrudePrev',\n",
    "       'COLON_SCREEN_CrudePrev', 'COPD_CrudePrev', 'COREM_CrudePrev',\n",
    "       'COREW_CrudePrev', 'CSMOKING_CrudePrev', 'DENTAL_CrudePrev',\n",
    "       'DIABETES_CrudePrev', 'HIGHCHOL_CrudePrev', 'KIDNEY_CrudePrev',\n",
    "       'LPA_CrudePrev', 'MAMMOUSE_CrudePrev', 'MHLTH_CrudePrev',\n",
    "       'OBESITY_CrudePrev', 'PAPTEST_CrudePrev', 'PHLTH_CrudePrev',\n",
    "       'SLEEP_CrudePrev', 'STROKE_CrudePrev', 'TEETHLOST_CrudePrev']\n",
    "\n",
    "df_500[impute_cols] = df_500[impute_cols + ['TractFIPS']].groupby('TractFIPS').transform('mean')"
   ]
  },
  {
   "cell_type": "code",
   "execution_count": 12,
   "metadata": {},
   "outputs": [],
   "source": [
    "df_500.drop_duplicates(subset = ['TractFIPS'], inplace = True)"
   ]
  },
  {
   "cell_type": "code",
   "execution_count": 13,
   "metadata": {},
   "outputs": [
    {
     "data": {
      "text/html": [
       "<div>\n",
       "<style scoped>\n",
       "    .dataframe tbody tr th:only-of-type {\n",
       "        vertical-align: middle;\n",
       "    }\n",
       "\n",
       "    .dataframe tbody tr th {\n",
       "        vertical-align: top;\n",
       "    }\n",
       "\n",
       "    .dataframe thead th {\n",
       "        text-align: right;\n",
       "    }\n",
       "</style>\n",
       "<table border=\"1\" class=\"dataframe\">\n",
       "  <thead>\n",
       "    <tr style=\"text-align: right;\">\n",
       "      <th></th>\n",
       "      <th>TractFIPS</th>\n",
       "      <th>County</th>\n",
       "      <th>StateAbbr</th>\n",
       "      <th>PlaceName</th>\n",
       "      <th>PlaceFIPS</th>\n",
       "      <th>Place_TractID</th>\n",
       "      <th>Population2010</th>\n",
       "      <th>ACCESS2_CrudePrev</th>\n",
       "      <th>ARTHRITIS_CrudePrev</th>\n",
       "      <th>BINGE_CrudePrev</th>\n",
       "      <th>...</th>\n",
       "      <th>KIDNEY_CrudePrev</th>\n",
       "      <th>LPA_CrudePrev</th>\n",
       "      <th>MAMMOUSE_CrudePrev</th>\n",
       "      <th>MHLTH_CrudePrev</th>\n",
       "      <th>OBESITY_CrudePrev</th>\n",
       "      <th>PAPTEST_CrudePrev</th>\n",
       "      <th>PHLTH_CrudePrev</th>\n",
       "      <th>SLEEP_CrudePrev</th>\n",
       "      <th>STROKE_CrudePrev</th>\n",
       "      <th>TEETHLOST_CrudePrev</th>\n",
       "    </tr>\n",
       "  </thead>\n",
       "  <tbody>\n",
       "  </tbody>\n",
       "</table>\n",
       "<p>0 rows × 35 columns</p>\n",
       "</div>"
      ],
      "text/plain": [
       "Empty DataFrame\n",
       "Columns: [TractFIPS, County, StateAbbr, PlaceName, PlaceFIPS, Place_TractID, Population2010, ACCESS2_CrudePrev, ARTHRITIS_CrudePrev, BINGE_CrudePrev, BPHIGH_CrudePrev, BPMED_CrudePrev, CANCER_CrudePrev, CASTHMA_CrudePrev, CHD_CrudePrev, CHECKUP_CrudePrev, CHOLSCREEN_CrudePrev, COLON_SCREEN_CrudePrev, COPD_CrudePrev, COREM_CrudePrev, COREW_CrudePrev, CSMOKING_CrudePrev, DENTAL_CrudePrev, DIABETES_CrudePrev, HIGHCHOL_CrudePrev, KIDNEY_CrudePrev, LPA_CrudePrev, MAMMOUSE_CrudePrev, MHLTH_CrudePrev, OBESITY_CrudePrev, PAPTEST_CrudePrev, PHLTH_CrudePrev, SLEEP_CrudePrev, STROKE_CrudePrev, TEETHLOST_CrudePrev]\n",
       "Index: []\n",
       "\n",
       "[0 rows x 35 columns]"
      ]
     },
     "execution_count": 13,
     "metadata": {},
     "output_type": "execute_result"
    }
   ],
   "source": [
    "#check duplicates\n",
    "df_500[df_500.duplicated(subset = ['TractFIPS'], keep = False)].sort_values(by = 'TractFIPS')"
   ]
  },
  {
   "cell_type": "markdown",
   "metadata": {},
   "source": [
    "Merging the coi data and 500-cities data"
   ]
  },
  {
   "cell_type": "code",
   "execution_count": 14,
   "metadata": {},
   "outputs": [
    {
     "data": {
      "text/plain": [
       "(1172, 49)"
      ]
     },
     "execution_count": 14,
     "metadata": {},
     "output_type": "execute_result"
    }
   ],
   "source": [
    "#merge data frames this is our master dataframe from this we can select whatever the variables we want\n",
    "df_merge = pd.merge(df_coi_2015,df_500,how = 'left', left_on = 'geoid', right_on = 'TractFIPS')\n",
    "df_merge.shape"
   ]
  },
  {
   "cell_type": "code",
   "execution_count": 15,
   "metadata": {},
   "outputs": [],
   "source": [
    "# renaming the columns to represent the coi variables\n",
    "df_merge.rename({'HE_FOOD': 'COI_FOOD',\n",
    "       'HE_GREEN': 'COI_GREEN','HE_WALK' : 'COI_WALK','HE_VACANCY' : 'COI_VACANCY','HE_SUPRFND' :'COI_SUPRFND',\n",
    "                 'HE_RSEI' : 'COI_RSEI',\n",
    "       'HE_PM25' : 'COI_PM25','HE_OZONE' : 'COI_OZONE','HE_HEAT' : 'COI_HEAT','HE_HLTHINS' : 'COI_HLTHINS'},\n",
    "                axis = 1, inplace = True)"
   ]
  },
  {
   "cell_type": "code",
   "execution_count": 16,
   "metadata": {},
   "outputs": [
    {
     "data": {
      "text/plain": [
       "Index(['COI_FOOD', 'COI_GREEN', 'COI_WALK', 'COI_VACANCY', 'COI_SUPRFND',\n",
       "       'COI_RSEI', 'COI_PM25', 'COI_OZONE', 'COI_HEAT', 'COI_HLTHINS',\n",
       "       'latitude', 'longitude', 'geoid', 'countyfips', 'TractFIPS', 'County',\n",
       "       'StateAbbr', 'PlaceName', 'PlaceFIPS', 'Place_TractID',\n",
       "       'Population2010', 'ACCESS2_CrudePrev', 'ARTHRITIS_CrudePrev',\n",
       "       'BINGE_CrudePrev', 'BPHIGH_CrudePrev', 'BPMED_CrudePrev',\n",
       "       'CANCER_CrudePrev', 'CASTHMA_CrudePrev', 'CHD_CrudePrev',\n",
       "       'CHECKUP_CrudePrev', 'CHOLSCREEN_CrudePrev', 'COLON_SCREEN_CrudePrev',\n",
       "       'COPD_CrudePrev', 'COREM_CrudePrev', 'COREW_CrudePrev',\n",
       "       'CSMOKING_CrudePrev', 'DENTAL_CrudePrev', 'DIABETES_CrudePrev',\n",
       "       'HIGHCHOL_CrudePrev', 'KIDNEY_CrudePrev', 'LPA_CrudePrev',\n",
       "       'MAMMOUSE_CrudePrev', 'MHLTH_CrudePrev', 'OBESITY_CrudePrev',\n",
       "       'PAPTEST_CrudePrev', 'PHLTH_CrudePrev', 'SLEEP_CrudePrev',\n",
       "       'STROKE_CrudePrev', 'TEETHLOST_CrudePrev'],\n",
       "      dtype='object')"
      ]
     },
     "execution_count": 16,
     "metadata": {},
     "output_type": "execute_result"
    }
   ],
   "source": [
    "df_merge.columns"
   ]
  },
  {
   "cell_type": "code",
   "execution_count": 17,
   "metadata": {},
   "outputs": [
    {
     "data": {
      "text/plain": [
       "(1172, 49)"
      ]
     },
     "execution_count": 17,
     "metadata": {},
     "output_type": "execute_result"
    }
   ],
   "source": [
    "df_merge.shape"
   ]
  },
  {
   "cell_type": "markdown",
   "metadata": {},
   "source": [
    "loading the life expectancy data(Y-variable) and merging with our master data"
   ]
  },
  {
   "cell_type": "code",
   "execution_count": 18,
   "metadata": {},
   "outputs": [
    {
     "name": "stdout",
     "output_type": "stream",
     "text": [
      "(999, 2)\n",
      "(1172, 50)\n"
     ]
    }
   ],
   "source": [
    "#load cdc life expectancy\n",
    "df_life_expectancy = pd.read_csv('CDC Life Expectancy.csv')\n",
    "print(df_life_expectancy.shape)\n",
    "\n",
    "df_merge = pd.merge(df_merge,df_life_expectancy,how = 'left',left_on = 'geoid', right_on = 'Tract ID')\n",
    "df_merge.drop('Tract ID', axis = 1,inplace = True)\n",
    "print(df_merge.shape)"
   ]
  },
  {
   "cell_type": "markdown",
   "metadata": {},
   "source": [
    "Loading traffic data the data is collected from :https://cris.dot.state.tx.us/public/Query/app/public/query/"
   ]
  },
  {
   "cell_type": "code",
   "execution_count": 19,
   "metadata": {},
   "outputs": [
    {
     "data": {
      "text/plain": [
       "(1172, 23)"
      ]
     },
     "execution_count": 19,
     "metadata": {},
     "output_type": "execute_result"
    }
   ],
   "source": [
    "#Load input data(traffic) and merge with our master data\n",
    "df_traffic = pd.read_excel('input.xlsx')\n",
    "df_traffic.shape"
   ]
  },
  {
   "cell_type": "code",
   "execution_count": 20,
   "metadata": {},
   "outputs": [
    {
     "name": "stdout",
     "output_type": "stream",
     "text": [
      "(1172, 54)\n",
      "Index(['COI_FOOD', 'COI_GREEN', 'COI_WALK', 'COI_VACANCY', 'COI_SUPRFND',\n",
      "       'COI_RSEI', 'COI_PM25', 'COI_OZONE', 'COI_HEAT', 'COI_HLTHINS',\n",
      "       'latitude', 'longitude', 'geoid', 'countyfips', 'TractFIPS', 'County',\n",
      "       'StateAbbr', 'PlaceName', 'PlaceFIPS', 'Place_TractID',\n",
      "       'Population2010', 'ACCESS2_CrudePrev', 'ARTHRITIS_CrudePrev',\n",
      "       'BINGE_CrudePrev', 'BPHIGH_CrudePrev', 'BPMED_CrudePrev',\n",
      "       'CANCER_CrudePrev', 'CASTHMA_CrudePrev', 'CHD_CrudePrev',\n",
      "       'CHECKUP_CrudePrev', 'CHOLSCREEN_CrudePrev', 'COLON_SCREEN_CrudePrev',\n",
      "       'COPD_CrudePrev', 'COREM_CrudePrev', 'COREW_CrudePrev',\n",
      "       'CSMOKING_CrudePrev', 'DENTAL_CrudePrev', 'DIABETES_CrudePrev',\n",
      "       'HIGHCHOL_CrudePrev', 'KIDNEY_CrudePrev', 'LPA_CrudePrev',\n",
      "       'MAMMOUSE_CrudePrev', 'MHLTH_CrudePrev', 'OBESITY_CrudePrev',\n",
      "       'PAPTEST_CrudePrev', 'PHLTH_CrudePrev', 'SLEEP_CrudePrev',\n",
      "       'STROKE_CrudePrev', 'TEETHLOST_CrudePrev', 'life expectancy',\n",
      "       'Alcohol Test', 'Drug Test', 'Pedalcyclist', 'Pedastrian'],\n",
      "      dtype='object')\n"
     ]
    }
   ],
   "source": [
    "df_merge = pd.merge(df_merge,df_traffic[['geoid','Alcohol Test', 'Drug Test', 'Pedalcyclist',\n",
    "       'Pedastrian']],how = 'left',on = 'geoid')\n",
    "#df_merge.drop('Tract ID', axis = 1,inplace = True)\n",
    "print(df_merge.shape)\n",
    "print(df_merge.columns)"
   ]
  },
  {
   "cell_type": "code",
   "execution_count": 30,
   "metadata": {},
   "outputs": [],
   "source": [
    "df_merge.to_csv('master_raw_data.csv')"
   ]
  },
  {
   "cell_type": "code",
   "execution_count": null,
   "metadata": {},
   "outputs": [],
   "source": []
  }
 ],
 "metadata": {
  "kernelspec": {
   "display_name": "Python 3",
   "language": "python",
   "name": "python3"
  },
  "language_info": {
   "codemirror_mode": {
    "name": "ipython",
    "version": 3
   },
   "file_extension": ".py",
   "mimetype": "text/x-python",
   "name": "python",
   "nbconvert_exporter": "python",
   "pygments_lexer": "ipython3",
   "version": "3.7.2"
  }
 },
 "nbformat": 4,
 "nbformat_minor": 4
}
